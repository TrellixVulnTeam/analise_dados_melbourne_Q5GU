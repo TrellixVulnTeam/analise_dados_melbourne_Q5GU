{
 "cells": [
  {
   "cell_type": "code",
   "execution_count": 4,
   "id": "e713fbbd",
   "metadata": {},
   "outputs": [],
   "source": [
    "# Analise de dados \n"
   ]
  },
  {
   "cell_type": "code",
   "execution_count": 3,
   "id": "5fb44fea",
   "metadata": {},
   "outputs": [],
   "source": [
    "import pandas as pd "
   ]
  },
  {
   "cell_type": "code",
   "execution_count": 4,
   "id": "4e2aa765",
   "metadata": {},
   "outputs": [
    {
     "data": {
      "text/html": [
       "<div>\n",
       "<style scoped>\n",
       "    .dataframe tbody tr th:only-of-type {\n",
       "        vertical-align: middle;\n",
       "    }\n",
       "\n",
       "    .dataframe tbody tr th {\n",
       "        vertical-align: top;\n",
       "    }\n",
       "\n",
       "    .dataframe thead th {\n",
       "        text-align: right;\n",
       "    }\n",
       "</style>\n",
       "<table border=\"1\" class=\"dataframe\">\n",
       "  <thead>\n",
       "    <tr style=\"text-align: right;\">\n",
       "      <th></th>\n",
       "      <th>bay_id</th>\n",
       "      <th>st_marker_id</th>\n",
       "      <th>status</th>\n",
       "      <th>location</th>\n",
       "      <th>lat</th>\n",
       "      <th>lon</th>\n",
       "    </tr>\n",
       "  </thead>\n",
       "  <tbody>\n",
       "    <tr>\n",
       "      <th>0</th>\n",
       "      <td>4002</td>\n",
       "      <td>C6040</td>\n",
       "      <td>Unoccupied</td>\n",
       "      <td>(-37.806146545613586, 144.95208866844425)</td>\n",
       "      <td>-37.806147</td>\n",
       "      <td>144.952089</td>\n",
       "    </tr>\n",
       "    <tr>\n",
       "      <th>1</th>\n",
       "      <td>3046</td>\n",
       "      <td>5149W</td>\n",
       "      <td>Unoccupied</td>\n",
       "      <td>(-37.80280546182864, 144.95685528863962)</td>\n",
       "      <td>-37.802805</td>\n",
       "      <td>144.956855</td>\n",
       "    </tr>\n",
       "    <tr>\n",
       "      <th>2</th>\n",
       "      <td>5390</td>\n",
       "      <td>11746E</td>\n",
       "      <td>Unoccupied</td>\n",
       "      <td>(-37.81025046161003, 144.97566700300655)</td>\n",
       "      <td>-37.810250</td>\n",
       "      <td>144.975667</td>\n",
       "    </tr>\n",
       "    <tr>\n",
       "      <th>3</th>\n",
       "      <td>1532</td>\n",
       "      <td>1896N</td>\n",
       "      <td>Present</td>\n",
       "      <td>(-37.81375871902004, 144.97217176465608)</td>\n",
       "      <td>-37.813759</td>\n",
       "      <td>144.972172</td>\n",
       "    </tr>\n",
       "    <tr>\n",
       "      <th>4</th>\n",
       "      <td>9000</td>\n",
       "      <td>C7814</td>\n",
       "      <td>Unoccupied</td>\n",
       "      <td>(-37.8255897260822, 144.97102234998545)</td>\n",
       "      <td>-37.825590</td>\n",
       "      <td>144.971022</td>\n",
       "    </tr>\n",
       "    <tr>\n",
       "      <th>...</th>\n",
       "      <td>...</td>\n",
       "      <td>...</td>\n",
       "      <td>...</td>\n",
       "      <td>...</td>\n",
       "      <td>...</td>\n",
       "      <td>...</td>\n",
       "    </tr>\n",
       "    <tr>\n",
       "      <th>1227</th>\n",
       "      <td>3927</td>\n",
       "      <td>C5770</td>\n",
       "      <td>Unoccupied</td>\n",
       "      <td>(-37.80441928801535, 144.95540725409757)</td>\n",
       "      <td>-37.804419</td>\n",
       "      <td>144.955407</td>\n",
       "    </tr>\n",
       "    <tr>\n",
       "      <th>1228</th>\n",
       "      <td>4020</td>\n",
       "      <td>C6078</td>\n",
       "      <td>Present</td>\n",
       "      <td>(-37.80511953669214, 144.95226842413223)</td>\n",
       "      <td>-37.805120</td>\n",
       "      <td>144.952268</td>\n",
       "    </tr>\n",
       "    <tr>\n",
       "      <th>1229</th>\n",
       "      <td>3019</td>\n",
       "      <td>5100E</td>\n",
       "      <td>Unoccupied</td>\n",
       "      <td>(-37.804378178842995, 144.9577120543801)</td>\n",
       "      <td>-37.804378</td>\n",
       "      <td>144.957712</td>\n",
       "    </tr>\n",
       "    <tr>\n",
       "      <th>1230</th>\n",
       "      <td>3944</td>\n",
       "      <td>C5856</td>\n",
       "      <td>Present</td>\n",
       "      <td>(-37.80533677006978, 144.95374189429305)</td>\n",
       "      <td>-37.805337</td>\n",
       "      <td>144.953742</td>\n",
       "    </tr>\n",
       "    <tr>\n",
       "      <th>1231</th>\n",
       "      <td>3682</td>\n",
       "      <td>7642N</td>\n",
       "      <td>Unoccupied</td>\n",
       "      <td>(-37.80495149707501, 144.948431030418)</td>\n",
       "      <td>-37.804951</td>\n",
       "      <td>144.948431</td>\n",
       "    </tr>\n",
       "  </tbody>\n",
       "</table>\n",
       "<p>1232 rows × 6 columns</p>\n",
       "</div>"
      ],
      "text/plain": [
       "      bay_id st_marker_id      status  \\\n",
       "0       4002        C6040  Unoccupied   \n",
       "1       3046        5149W  Unoccupied   \n",
       "2       5390       11746E  Unoccupied   \n",
       "3       1532        1896N     Present   \n",
       "4       9000        C7814  Unoccupied   \n",
       "...      ...          ...         ...   \n",
       "1227    3927        C5770  Unoccupied   \n",
       "1228    4020        C6078     Present   \n",
       "1229    3019        5100E  Unoccupied   \n",
       "1230    3944        C5856     Present   \n",
       "1231    3682        7642N  Unoccupied   \n",
       "\n",
       "                                       location        lat         lon  \n",
       "0     (-37.806146545613586, 144.95208866844425) -37.806147  144.952089  \n",
       "1      (-37.80280546182864, 144.95685528863962) -37.802805  144.956855  \n",
       "2      (-37.81025046161003, 144.97566700300655) -37.810250  144.975667  \n",
       "3      (-37.81375871902004, 144.97217176465608) -37.813759  144.972172  \n",
       "4       (-37.8255897260822, 144.97102234998545) -37.825590  144.971022  \n",
       "...                                         ...        ...         ...  \n",
       "1227   (-37.80441928801535, 144.95540725409757) -37.804419  144.955407  \n",
       "1228   (-37.80511953669214, 144.95226842413223) -37.805120  144.952268  \n",
       "1229   (-37.804378178842995, 144.9577120543801) -37.804378  144.957712  \n",
       "1230   (-37.80533677006978, 144.95374189429305) -37.805337  144.953742  \n",
       "1231     (-37.80495149707501, 144.948431030418) -37.804951  144.948431  \n",
       "\n",
       "[1232 rows x 6 columns]"
      ]
     },
     "execution_count": 4,
     "metadata": {},
     "output_type": "execute_result"
    }
   ],
   "source": [
    "dados_estacionamento = pd.read_csv('On-street_Parking_Bay_Sensors.csv')\n",
    "dados_estacionamento"
   ]
  },
  {
   "cell_type": "code",
   "execution_count": 5,
   "id": "65d96cdd",
   "metadata": {},
   "outputs": [
    {
     "data": {
      "text/plain": [
       "0      -37.806147\n",
       "1      -37.802805\n",
       "2      -37.810250\n",
       "3      -37.813759\n",
       "4      -37.825590\n",
       "          ...    \n",
       "1227   -37.804419\n",
       "1228   -37.805120\n",
       "1229   -37.804378\n",
       "1230   -37.805337\n",
       "1231   -37.804951\n",
       "Name: lat, Length: 1232, dtype: float64"
      ]
     },
     "execution_count": 5,
     "metadata": {},
     "output_type": "execute_result"
    }
   ],
   "source": [
    "dados_estacionamento.lat"
   ]
  },
  {
   "cell_type": "code",
   "execution_count": 6,
   "id": "c48f38ad",
   "metadata": {},
   "outputs": [
    {
     "data": {
      "text/html": [
       "<div>\n",
       "<style scoped>\n",
       "    .dataframe tbody tr th:only-of-type {\n",
       "        vertical-align: middle;\n",
       "    }\n",
       "\n",
       "    .dataframe tbody tr th {\n",
       "        vertical-align: top;\n",
       "    }\n",
       "\n",
       "    .dataframe thead th {\n",
       "        text-align: right;\n",
       "    }\n",
       "</style>\n",
       "<table border=\"1\" class=\"dataframe\">\n",
       "  <thead>\n",
       "    <tr style=\"text-align: right;\">\n",
       "      <th></th>\n",
       "      <th>bay_id</th>\n",
       "      <th>lat</th>\n",
       "      <th>lon</th>\n",
       "    </tr>\n",
       "  </thead>\n",
       "  <tbody>\n",
       "    <tr>\n",
       "      <th>count</th>\n",
       "      <td>1232.000000</td>\n",
       "      <td>1232.000000</td>\n",
       "      <td>1232.000000</td>\n",
       "    </tr>\n",
       "    <tr>\n",
       "      <th>mean</th>\n",
       "      <td>4377.178571</td>\n",
       "      <td>-37.810039</td>\n",
       "      <td>144.959694</td>\n",
       "    </tr>\n",
       "    <tr>\n",
       "      <th>std</th>\n",
       "      <td>1553.477998</td>\n",
       "      <td>0.007290</td>\n",
       "      <td>0.009541</td>\n",
       "    </tr>\n",
       "    <tr>\n",
       "      <th>min</th>\n",
       "      <td>863.000000</td>\n",
       "      <td>-37.830318</td>\n",
       "      <td>144.942232</td>\n",
       "    </tr>\n",
       "    <tr>\n",
       "      <th>25%</th>\n",
       "      <td>3554.750000</td>\n",
       "      <td>-37.812000</td>\n",
       "      <td>144.952828</td>\n",
       "    </tr>\n",
       "    <tr>\n",
       "      <th>50%</th>\n",
       "      <td>4119.500000</td>\n",
       "      <td>-37.807813</td>\n",
       "      <td>144.955822</td>\n",
       "    </tr>\n",
       "    <tr>\n",
       "      <th>75%</th>\n",
       "      <td>5237.250000</td>\n",
       "      <td>-37.804811</td>\n",
       "      <td>144.967301</td>\n",
       "    </tr>\n",
       "    <tr>\n",
       "      <th>max</th>\n",
       "      <td>9006.000000</td>\n",
       "      <td>-37.798302</td>\n",
       "      <td>144.983818</td>\n",
       "    </tr>\n",
       "  </tbody>\n",
       "</table>\n",
       "</div>"
      ],
      "text/plain": [
       "            bay_id          lat          lon\n",
       "count  1232.000000  1232.000000  1232.000000\n",
       "mean   4377.178571   -37.810039   144.959694\n",
       "std    1553.477998     0.007290     0.009541\n",
       "min     863.000000   -37.830318   144.942232\n",
       "25%    3554.750000   -37.812000   144.952828\n",
       "50%    4119.500000   -37.807813   144.955822\n",
       "75%    5237.250000   -37.804811   144.967301\n",
       "max    9006.000000   -37.798302   144.983818"
      ]
     },
     "execution_count": 6,
     "metadata": {},
     "output_type": "execute_result"
    }
   ],
   "source": [
    "dados_estacionamento.describe()"
   ]
  },
  {
   "cell_type": "code",
   "execution_count": 7,
   "id": "921da095",
   "metadata": {},
   "outputs": [
    {
     "data": {
      "text/html": [
       "<div>\n",
       "<style scoped>\n",
       "    .dataframe tbody tr th:only-of-type {\n",
       "        vertical-align: middle;\n",
       "    }\n",
       "\n",
       "    .dataframe tbody tr th {\n",
       "        vertical-align: top;\n",
       "    }\n",
       "\n",
       "    .dataframe thead th {\n",
       "        text-align: right;\n",
       "    }\n",
       "</style>\n",
       "<table border=\"1\" class=\"dataframe\">\n",
       "  <thead>\n",
       "    <tr style=\"text-align: right;\">\n",
       "      <th></th>\n",
       "      <th>bay_id</th>\n",
       "      <th>st_marker_id</th>\n",
       "      <th>status</th>\n",
       "      <th>location</th>\n",
       "      <th>lat</th>\n",
       "      <th>lon</th>\n",
       "    </tr>\n",
       "  </thead>\n",
       "  <tbody>\n",
       "    <tr>\n",
       "      <th>0</th>\n",
       "      <td>4002</td>\n",
       "      <td>C6040</td>\n",
       "      <td>Unoccupied</td>\n",
       "      <td>(-37.806146545613586, 144.95208866844425)</td>\n",
       "      <td>-37.806147</td>\n",
       "      <td>144.952089</td>\n",
       "    </tr>\n",
       "    <tr>\n",
       "      <th>1</th>\n",
       "      <td>3046</td>\n",
       "      <td>5149W</td>\n",
       "      <td>Unoccupied</td>\n",
       "      <td>(-37.80280546182864, 144.95685528863962)</td>\n",
       "      <td>-37.802805</td>\n",
       "      <td>144.956855</td>\n",
       "    </tr>\n",
       "    <tr>\n",
       "      <th>2</th>\n",
       "      <td>5390</td>\n",
       "      <td>11746E</td>\n",
       "      <td>Unoccupied</td>\n",
       "      <td>(-37.81025046161003, 144.97566700300655)</td>\n",
       "      <td>-37.810250</td>\n",
       "      <td>144.975667</td>\n",
       "    </tr>\n",
       "    <tr>\n",
       "      <th>3</th>\n",
       "      <td>1532</td>\n",
       "      <td>1896N</td>\n",
       "      <td>Present</td>\n",
       "      <td>(-37.81375871902004, 144.97217176465608)</td>\n",
       "      <td>-37.813759</td>\n",
       "      <td>144.972172</td>\n",
       "    </tr>\n",
       "    <tr>\n",
       "      <th>4</th>\n",
       "      <td>9000</td>\n",
       "      <td>C7814</td>\n",
       "      <td>Unoccupied</td>\n",
       "      <td>(-37.8255897260822, 144.97102234998545)</td>\n",
       "      <td>-37.825590</td>\n",
       "      <td>144.971022</td>\n",
       "    </tr>\n",
       "  </tbody>\n",
       "</table>\n",
       "</div>"
      ],
      "text/plain": [
       "   bay_id st_marker_id      status                                   location  \\\n",
       "0    4002        C6040  Unoccupied  (-37.806146545613586, 144.95208866844425)   \n",
       "1    3046        5149W  Unoccupied   (-37.80280546182864, 144.95685528863962)   \n",
       "2    5390       11746E  Unoccupied   (-37.81025046161003, 144.97566700300655)   \n",
       "3    1532        1896N     Present   (-37.81375871902004, 144.97217176465608)   \n",
       "4    9000        C7814  Unoccupied    (-37.8255897260822, 144.97102234998545)   \n",
       "\n",
       "         lat         lon  \n",
       "0 -37.806147  144.952089  \n",
       "1 -37.802805  144.956855  \n",
       "2 -37.810250  144.975667  \n",
       "3 -37.813759  144.972172  \n",
       "4 -37.825590  144.971022  "
      ]
     },
     "execution_count": 7,
     "metadata": {},
     "output_type": "execute_result"
    }
   ],
   "source": [
    "dados_estacionamento.head()"
   ]
  },
  {
   "cell_type": "code",
   "execution_count": 8,
   "id": "3c83946a",
   "metadata": {},
   "outputs": [
    {
     "data": {
      "text/plain": [
       "0       (-37.806146545613586, 144.95208866844425)\n",
       "1        (-37.80280546182864, 144.95685528863962)\n",
       "2        (-37.81025046161003, 144.97566700300655)\n",
       "3        (-37.81375871902004, 144.97217176465608)\n",
       "4         (-37.8255897260822, 144.97102234998545)\n",
       "                          ...                    \n",
       "1227     (-37.80441928801535, 144.95540725409757)\n",
       "1228     (-37.80511953669214, 144.95226842413223)\n",
       "1229     (-37.804378178842995, 144.9577120543801)\n",
       "1230     (-37.80533677006978, 144.95374189429305)\n",
       "1231       (-37.80495149707501, 144.948431030418)\n",
       "Name: location, Length: 1232, dtype: object"
      ]
     },
     "execution_count": 8,
     "metadata": {},
     "output_type": "execute_result"
    }
   ],
   "source": [
    "dados_estacionamento.location"
   ]
  },
  {
   "cell_type": "code",
   "execution_count": 17,
   "id": "ca517b99",
   "metadata": {},
   "outputs": [],
   "source": [
    "vagas_presentes= dados_estacionamento.query(\"status == 'Present'\").status.value_counts()\n"
   ]
  },
  {
   "cell_type": "code",
   "execution_count": 19,
   "id": "86e756f1",
   "metadata": {},
   "outputs": [
    {
     "data": {
      "text/plain": [
       "Present    336\n",
       "Name: status, dtype: int64"
      ]
     },
     "execution_count": 19,
     "metadata": {},
     "output_type": "execute_result"
    }
   ],
   "source": [
    "vagas_presentes"
   ]
  },
  {
   "cell_type": "code",
   "execution_count": 20,
   "id": "11009da2",
   "metadata": {},
   "outputs": [
    {
     "data": {
      "text/plain": [
       "Unoccupied    896\n",
       "Name: status, dtype: int64"
      ]
     },
     "execution_count": 20,
     "metadata": {},
     "output_type": "execute_result"
    }
   ],
   "source": [
    "vagas_n_presentes= dados_estacionamento.query(\"status == 'Unoccupied'\").status.value_counts()\n",
    "vagas_n_presentes"
   ]
  },
  {
   "cell_type": "code",
   "execution_count": null,
   "id": "321bbc6e",
   "metadata": {},
   "outputs": [],
   "source": []
  },
  {
   "cell_type": "code",
   "execution_count": 22,
   "id": "d77a151f",
   "metadata": {},
   "outputs": [
    {
     "name": "stdout",
     "output_type": "stream",
     "text": [
      "Collecting seaborn\n",
      "  Downloading seaborn-0.11.1-py3-none-any.whl (285 kB)\n",
      "\u001b[K     |████████████████████████████████| 285 kB 891 kB/s eta 0:00:01\n",
      "\u001b[?25hRequirement already satisfied: scipy>=1.0 in /home/rayanne/analise-dados/lib/python3.6/site-packages (from seaborn) (1.5.4)\n",
      "Requirement already satisfied: pandas>=0.23 in /home/rayanne/analise-dados/lib/python3.6/site-packages (from seaborn) (1.1.5)\n",
      "Requirement already satisfied: numpy>=1.15 in /home/rayanne/analise-dados/lib/python3.6/site-packages (from seaborn) (1.19.5)\n",
      "Requirement already satisfied: matplotlib>=2.2 in /home/rayanne/analise-dados/lib/python3.6/site-packages (from seaborn) (3.3.4)\n",
      "Requirement already satisfied: pyparsing!=2.0.4,!=2.1.2,!=2.1.6,>=2.0.3 in /home/rayanne/analise-dados/lib/python3.6/site-packages (from matplotlib>=2.2->seaborn) (2.4.7)\n",
      "Requirement already satisfied: python-dateutil>=2.1 in /home/rayanne/analise-dados/lib/python3.6/site-packages (from matplotlib>=2.2->seaborn) (2.8.2)\n",
      "Requirement already satisfied: pillow>=6.2.0 in /home/rayanne/analise-dados/lib/python3.6/site-packages (from matplotlib>=2.2->seaborn) (8.3.1)\n",
      "Requirement already satisfied: kiwisolver>=1.0.1 in /home/rayanne/analise-dados/lib/python3.6/site-packages (from matplotlib>=2.2->seaborn) (1.3.1)\n",
      "Requirement already satisfied: cycler>=0.10 in /home/rayanne/analise-dados/lib/python3.6/site-packages (from matplotlib>=2.2->seaborn) (0.10.0)\n",
      "Requirement already satisfied: six in /home/rayanne/analise-dados/lib/python3.6/site-packages (from cycler>=0.10->matplotlib>=2.2->seaborn) (1.16.0)\n",
      "Requirement already satisfied: pytz>=2017.2 in /home/rayanne/analise-dados/lib/python3.6/site-packages (from pandas>=0.23->seaborn) (2021.1)\n",
      "Installing collected packages: seaborn\n",
      "Successfully installed seaborn-0.11.1\n"
     ]
    }
   ],
   "source": [
    "!pip install seaborn "
   ]
  },
  {
   "cell_type": "code",
   "execution_count": 23,
   "id": "c17b6136",
   "metadata": {},
   "outputs": [],
   "source": [
    "import seaborn as sns\n"
   ]
  },
  {
   "cell_type": "code",
   "execution_count": 28,
   "id": "eff5b433",
   "metadata": {},
   "outputs": [
    {
     "data": {
      "text/plain": [
       "<seaborn.axisgrid.FacetGrid at 0x7f088aa34cc0>"
      ]
     },
     "execution_count": 28,
     "metadata": {},
     "output_type": "execute_result"
    },
    {
     "data": {
      "image/png": "[encoded data removed]",
      "text/plain": [
       "<Figure size 360x360 with 1 Axes>"
      ]
     },
     "metadata": {
      "needs_background": "light"
     },
     "output_type": "display_data"
    }
   ],
   "source": [
    "sns.catplot(x=\"status\", data = dados_estacionamento, kind=\"count\")"
   ]
  },
  {
   "cell_type": "code",
   "execution_count": null,
   "id": "6031ca30",
   "metadata": {},
   "outputs": [],
   "source": []
  }
 ],
 "metadata": {
  "kernelspec": {
   "display_name": "Python 3",
   "language": "python",
   "name": "python3"
  },
  "language_info": {
   "codemirror_mode": {
    "name": "ipython",
    "version": 3
   },
   "file_extension": ".py",
   "mimetype": "text/x-python",
   "name": "python",
   "nbconvert_exporter": "python",
   "pygments_lexer": "ipython3",
   "version": "3.6.9"
  }
 },
 "nbformat": 4,
 "nbformat_minor": 5
}
